{
 "cells": [
  {
   "cell_type": "code",
   "execution_count": 1,
   "metadata": {},
   "outputs": [],
   "source": [
    "import numpy as np\n",
    "import matplotlib.pyplot as plt"
   ]
  },
  {
   "cell_type": "code",
   "execution_count": 16,
   "metadata": {},
   "outputs": [
    {
     "name": "stderr",
     "output_type": "stream",
     "text": [
      "C:\\Users\\rannu\\AppData\\Local\\Temp\\ipykernel_21016\\3330869017.py:5: RuntimeWarning: invalid value encountered in sqrt\n",
      "  x_g, y_g = np.meshgrid(x, np.sqrt(1-y))\n"
     ]
    },
    {
     "data": {
      "text/plain": [
       "<matplotlib.image.AxesImage at 0x1d77bf233d0>"
      ]
     },
     "execution_count": 16,
     "metadata": {},
     "output_type": "execute_result"
    },
    {
     "data": {
      "image/png": "[encoded data removed]",
      "text/plain": [
       "<Figure size 216x216 with 1 Axes>"
      ]
     },
     "metadata": {
      "needs_background": "light"
     },
     "output_type": "display_data"
    }
   ],
   "source": [
    "num_points = 60\n",
    "x = np.linspace(0, 1, num_points)\n",
    "y = np.linspace(0, 1.05, num_points)\n",
    "\n",
    "def bool_domain_gen(x, y, num_points):\n",
    "    x_g, y_g = np.meshgrid(x, np.sqrt(1-y))\n",
    "    y_g = y_g[::-1]\n",
    "    bool_domain = x_g <= y_g\n",
    "    return bool_domain\n",
    "\n",
    "bool_domain = bool_domain_gen(x, y, num_points)\n",
    "\n",
    "plt.figure(figsize = (3,3))\n",
    "plt.imshow(bool_domain)"
   ]
  },
  {
   "cell_type": "code",
   "execution_count": null,
   "metadata": {},
   "outputs": [],
   "source": []
  }
 ],
 "metadata": {
  "kernelspec": {
   "display_name": "base",
   "language": "python",
   "name": "python3"
  },
  "language_info": {
   "codemirror_mode": {
    "name": "ipython",
    "version": 3
   },
   "file_extension": ".py",
   "mimetype": "text/x-python",
   "name": "python",
   "nbconvert_exporter": "python",
   "pygments_lexer": "ipython3",
   "version": "3.9.12"
  },
  "orig_nbformat": 4,
  "vscode": {
   "interpreter": {
    "hash": "ad2bdc8ecc057115af97d19610ffacc2b4e99fae6737bb82f5d7fb13d2f2c186"
   }
  }
 },
 "nbformat": 4,
 "nbformat_minor": 2
}
