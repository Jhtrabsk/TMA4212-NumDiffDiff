{
 "cells": [
  {
   "attachments": {},
   "cell_type": "markdown",
   "metadata": {},
   "source": [
    "# Exercise 3\n",
    "Ole Gunnar Hovland and Alexander Hatle"
   ]
  },
  {
   "cell_type": "code",
   "execution_count": 1,
   "metadata": {},
   "outputs": [],
   "source": [
    "%matplotlib inline\n",
    "import numpy as np\n",
    "import time\n",
    "import matplotlib.pyplot as plt\n",
    "newparams = {'figure.figsize': (8.0, 4.0), 'axes.grid': True,\n",
    "             'lines.markersize': 8, 'lines.linewidth': 2,\n",
    "             'font.size': 14}\n",
    "from matplotlib import cm\n",
    "plt.rcParams.update(newparams)"
   ]
  },
  {
   "cell_type": "code",
   "execution_count": 12,
   "metadata": {},
   "outputs": [],
   "source": [
    "def tridiag(v, d, w, N):\n",
    "    # Help function \n",
    "    # Returns a tridiagonal matrix A=tridiag(v, d, w) of dimension N x N.\n",
    "    if len(v) + len(d) + len(w) > 3:\n",
    "        A = np.diag(v, -1) + np.diag(d) + np.diag(w, 1)\n",
    "    else:\n",
    "        e = np.ones(N)        # array [1,1,...,1] of length N\n",
    "        A = v*np.diag(e[1:],-1) + d * np.diag(e) + w * np.diag(e[1:],1)\n",
    "    return A"
   ]
  },
  {
   "cell_type": "code",
   "execution_count": 38,
   "metadata": {},
   "outputs": [],
   "source": [
    "def crank(g, params, BC, M=10, N=100, R = 1, T=0.5):\n",
    "    # Input: \n",
    "    #       g: initial function for t=0\n",
    "    #       M, N: number of grid intervals in the x- and t directions\n",
    "    #       T: end of integration\n",
    "    # Output: \n",
    "    #       x, t: the gridpoints in the x- and t- directions \n",
    "    #       U: An array with the numerical solution.\n",
    "\n",
    "    \n",
    "\n",
    "    # Set the stepsizes\n",
    "    h = R/M     # Stepsize in space\n",
    "    k = T/N     # Stepsize in time\n",
    "\n",
    "    # Parameters\n",
    "    sigma = params[0]\n",
    "    r = params[1]\n",
    "    c = params[2]\n",
    "    K = params[3]\n",
    "\n",
    "    # Helping parameters\n",
    "    alpha = sigma**2 * k / (4 * h**2)\n",
    "    beta = r * k / (4*h)\n",
    "    gamma = c * k / 2\n",
    "\n",
    "    # Print the stepsizes, and r=k/h^2.\n",
    "    print('h={:.4f}, k={:.4f}'.format(h,k))\n",
    "\n",
    "    U = np.zeros((M+1,N+1))    # Array to store the solution, boundaries included.\n",
    "    x = np.linspace(0,R,M+1)   # Gridpoints on the x-axis\n",
    "    t = np.linspace(0,T,N+1)   # Gridpoints on the t-axis\n",
    "    U[:,0] = g(x, K)              # Initial values, endpoints included\n",
    "    \n",
    "    # Constructing A\n",
    "    lowdiag = -alpha * x[2:-1]**2 - beta * x[2:-1]         # M-2\n",
    "    diag =  1 + alpha * x[1:-1]**2 + gamma                   # M-1\n",
    "    updiag = -alpha * x[1:-2]**2 + beta * x[1:-2]         # M-2\n",
    "    print(len(lowdiag), len(diag), len(updiag))\n",
    "    A = tridiag(lowdiag, diag, updiag, M-1)\n",
    "\n",
    "    \n",
    "\n",
    "    # Constructing B\n",
    "    lowdiag = alpha * x[2:-1]**2 + beta * x[2:-1]  \n",
    "    diag = 1 - alpha * x[1:-1]**2 - gamma \n",
    "    updiag = alpha * x[2:-1]**2 + beta * x[2:-1] \n",
    "    B = tridiag(lowdiag, diag, updiag, M-1)\n",
    "\n",
    "    # Constructing p and q\n",
    "    p = np.zeros(M-1)\n",
    "    p[-1] = (-alpha * x[-1]**2 - beta * x[-1]) * U[-1, 0]\n",
    "    q = -p\n",
    "\n",
    "    # Boundary functions\n",
    "    if BC == 'EP':\n",
    "        def bndry(t):\n",
    "            return K * np.exp(-c * t)\n",
    "    elif BC == 'binary':\n",
    "        def bndry(t):\n",
    "            return 0\n",
    "\n",
    "    # Main loop \n",
    "    for n in range(N):\n",
    "        tempvec = B.dot(U[1:-1, n]) + q - p\n",
    "        U[1:-1, n+1] = np.linalg.solve(A, tempvec)  # [1:-1] -> excluding endpoints\n",
    "        # Boundary\n",
    "        U[0, n+1] = bndry(t[n+1])\n",
    "    return x, t, U"
   ]
  },
  {
   "cell_type": "code",
   "execution_count": 42,
   "metadata": {},
   "outputs": [],
   "source": [
    "\n",
    "def european_put(x, K):\n",
    "    sol = np.zeros(x.shape)\n",
    "    return (K-x)[K-x > 0]\n",
    "def binary_call(x, K):\n",
    "    if x >= K:\n",
    "        return 1\n",
    "    else:\n",
    "        return 0"
   ]
  },
  {
   "cell_type": "code",
   "execution_count": 43,
   "metadata": {},
   "outputs": [
    {
     "name": "stdout",
     "output_type": "stream",
     "text": [
      "h=0.1000, k=0.0010\n"
     ]
    },
    {
     "ename": "ValueError",
     "evalue": "could not broadcast input array from shape (5) into shape (11)",
     "output_type": "error",
     "traceback": [
      "\u001b[0;31m---------------------------------------------------------------------------\u001b[0m",
      "\u001b[0;31mValueError\u001b[0m                                Traceback (most recent call last)",
      "\u001b[0;32m<ipython-input-43-e3517573bcf5>\u001b[0m in \u001b[0;36m<module>\u001b[0;34m\u001b[0m\n\u001b[0;32m----> 1\u001b[0;31m \u001b[0mx\u001b[0m\u001b[0;34m,\u001b[0m \u001b[0mt\u001b[0m\u001b[0;34m,\u001b[0m \u001b[0mU\u001b[0m \u001b[0;34m=\u001b[0m \u001b[0mcrank\u001b[0m\u001b[0;34m(\u001b[0m\u001b[0mg\u001b[0m \u001b[0;34m=\u001b[0m \u001b[0meuropean_put\u001b[0m\u001b[0;34m,\u001b[0m \u001b[0mparams\u001b[0m \u001b[0;34m=\u001b[0m \u001b[0;34m[\u001b[0m\u001b[0;36m1\u001b[0m\u001b[0;34m,\u001b[0m\u001b[0;36m1\u001b[0m\u001b[0;34m,\u001b[0m\u001b[0;36m0.5\u001b[0m\u001b[0;34m,\u001b[0m\u001b[0;36m0.5\u001b[0m\u001b[0;34m]\u001b[0m\u001b[0;34m,\u001b[0m \u001b[0mBC\u001b[0m \u001b[0;34m=\u001b[0m \u001b[0;34m'EP'\u001b[0m\u001b[0;34m,\u001b[0m \u001b[0mT\u001b[0m \u001b[0;34m=\u001b[0m \u001b[0;36m0.1\u001b[0m\u001b[0;34m)\u001b[0m\u001b[0;34m\u001b[0m\u001b[0;34m\u001b[0m\u001b[0m\n\u001b[0m\u001b[1;32m      2\u001b[0m \u001b[0;34m\u001b[0m\u001b[0m\n\u001b[1;32m      3\u001b[0m \u001b[0mplt\u001b[0m\u001b[0;34m.\u001b[0m\u001b[0mfigure\u001b[0m\u001b[0;34m(\u001b[0m\u001b[0;36m1\u001b[0m\u001b[0;34m)\u001b[0m\u001b[0;34m\u001b[0m\u001b[0;34m\u001b[0m\u001b[0m\n\u001b[1;32m      4\u001b[0m \u001b[0mplt\u001b[0m\u001b[0;34m.\u001b[0m\u001b[0mclf\u001b[0m\u001b[0;34m(\u001b[0m\u001b[0;34m)\u001b[0m\u001b[0;34m\u001b[0m\u001b[0;34m\u001b[0m\u001b[0m\n\u001b[1;32m      5\u001b[0m \u001b[0mtplots\u001b[0m \u001b[0;34m=\u001b[0m \u001b[0mnp\u001b[0m\u001b[0;34m.\u001b[0m\u001b[0mlinspace\u001b[0m\u001b[0;34m(\u001b[0m\u001b[0;36m0\u001b[0m\u001b[0;34m,\u001b[0m\u001b[0mt\u001b[0m\u001b[0;34m[\u001b[0m\u001b[0;34m-\u001b[0m\u001b[0;36m1\u001b[0m\u001b[0;34m]\u001b[0m\u001b[0;34m,\u001b[0m\u001b[0;36m6\u001b[0m\u001b[0;34m)\u001b[0m\u001b[0;34m\u001b[0m\u001b[0;34m\u001b[0m\u001b[0m\n",
      "\u001b[0;32m<ipython-input-38-37ca4dd0da99>\u001b[0m in \u001b[0;36mcrank\u001b[0;34m(g, params, BC, M, N, R, T)\u001b[0m\n\u001b[1;32m     31\u001b[0m     \u001b[0mx\u001b[0m \u001b[0;34m=\u001b[0m \u001b[0mnp\u001b[0m\u001b[0;34m.\u001b[0m\u001b[0mlinspace\u001b[0m\u001b[0;34m(\u001b[0m\u001b[0;36m0\u001b[0m\u001b[0;34m,\u001b[0m\u001b[0mR\u001b[0m\u001b[0;34m,\u001b[0m\u001b[0mM\u001b[0m\u001b[0;34m+\u001b[0m\u001b[0;36m1\u001b[0m\u001b[0;34m)\u001b[0m   \u001b[0;31m# Gridpoints on the x-axis\u001b[0m\u001b[0;34m\u001b[0m\u001b[0;34m\u001b[0m\u001b[0m\n\u001b[1;32m     32\u001b[0m     \u001b[0mt\u001b[0m \u001b[0;34m=\u001b[0m \u001b[0mnp\u001b[0m\u001b[0;34m.\u001b[0m\u001b[0mlinspace\u001b[0m\u001b[0;34m(\u001b[0m\u001b[0;36m0\u001b[0m\u001b[0;34m,\u001b[0m\u001b[0mT\u001b[0m\u001b[0;34m,\u001b[0m\u001b[0mN\u001b[0m\u001b[0;34m+\u001b[0m\u001b[0;36m1\u001b[0m\u001b[0;34m)\u001b[0m   \u001b[0;31m# Gridpoints on the t-axis\u001b[0m\u001b[0;34m\u001b[0m\u001b[0;34m\u001b[0m\u001b[0m\n\u001b[0;32m---> 33\u001b[0;31m     \u001b[0mU\u001b[0m\u001b[0;34m[\u001b[0m\u001b[0;34m:\u001b[0m\u001b[0;34m,\u001b[0m\u001b[0;36m0\u001b[0m\u001b[0;34m]\u001b[0m \u001b[0;34m=\u001b[0m \u001b[0mg\u001b[0m\u001b[0;34m(\u001b[0m\u001b[0mx\u001b[0m\u001b[0;34m,\u001b[0m \u001b[0mK\u001b[0m\u001b[0;34m)\u001b[0m              \u001b[0;31m# Initial values, endpoints included\u001b[0m\u001b[0;34m\u001b[0m\u001b[0;34m\u001b[0m\u001b[0m\n\u001b[0m\u001b[1;32m     34\u001b[0m \u001b[0;34m\u001b[0m\u001b[0m\n\u001b[1;32m     35\u001b[0m     \u001b[0;31m# Constructing A\u001b[0m\u001b[0;34m\u001b[0m\u001b[0;34m\u001b[0m\u001b[0;34m\u001b[0m\u001b[0m\n",
      "\u001b[0;31mValueError\u001b[0m: could not broadcast input array from shape (5) into shape (11)"
     ]
    }
   ],
   "source": [
    "x, t, U = crank(g = european_put, params = [1,1,0.5,0.5], BC = 'EP', T = 0.1)\n",
    "\n",
    "plt.figure(1)\n",
    "plt.clf()\n",
    "tplots = np.linspace(0,t[-1],6)\n",
    "k = t[1]-t[0]\n",
    "for tn in tplots:\n",
    "    n = int(tn/k)\n",
    "    tn = n*k\n",
    "    plt.plot(x,U[:,n],'-o',label='t={:.1f}'.format(tn))\n",
    "plt.xlabel('x')\n",
    "plt.ylabel('u(x,t)')\n",
    "plt.legend()\n",
    "plt.show()\n",
    "\n",
    "# Make a 3-d plot\n",
    "plot_solution(x, t, U, txt='Solution')\n",
    "plt.show()\n",
    "\n",
    "plt.plot(x, european_put(x, 0.5))\n",
    "\n"
   ]
  },
  {
   "cell_type": "code",
   "execution_count": 34,
   "metadata": {},
   "outputs": [],
   "source": [
    "def plot_solution(x, t, U, txt='Solution'):\n",
    "    # Plot the solution of the heat equation\n",
    "    \n",
    "    fig, ax = plt.subplots(subplot_kw={\"projection\": \"3d\"})\n",
    "    T, X = np.meshgrid(t,x)\n",
    "    # ax.plot_wireframe(T, X, U)\n",
    "    ax.plot_surface(T, X, U, cmap=cm.coolwarm)\n",
    "    ax.view_init(azim=30)              # Rotate the figure\n",
    "    plt.xlabel('t')\n",
    "    plt.ylabel('x')\n",
    "    plt.title(txt);"
   ]
  },
  {
   "cell_type": "code",
   "execution_count": null,
   "metadata": {},
   "outputs": [],
   "source": []
  }
 ],
 "metadata": {
  "kernelspec": {
   "display_name": "base",
   "language": "python",
   "name": "python3"
  },
  "language_info": {
   "codemirror_mode": {
    "name": "ipython",
    "version": 3
   },
   "file_extension": ".py",
   "mimetype": "text/x-python",
   "name": "python",
   "nbconvert_exporter": "python",
   "pygments_lexer": "ipython3",
   "version": "3.8.3"
  },
  "orig_nbformat": 4,
  "vscode": {
   "interpreter": {
    "hash": "6c316e93d24558c110aa6e5084d987425c692a1c5fe270bdb5157dd4452fa664"
   }
  }
 },
 "nbformat": 4,
 "nbformat_minor": 2
}
