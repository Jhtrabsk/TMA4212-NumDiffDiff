{
 "cells": [
  {
   "attachments": {},
   "cell_type": "markdown",
   "metadata": {},
   "source": [
    "# Exercise 3\n",
    "Ole Gunnar Hovland and Alexander Hatle"
   ]
  },
  {
   "cell_type": "code",
   "execution_count": 1,
   "metadata": {},
   "outputs": [],
   "source": [
    "%matplotlib inline\n",
    "import numpy as np\n",
    "import time\n",
    "import matplotlib.pyplot as plt\n",
    "newparams = {'figure.figsize': (8.0, 4.0), 'axes.grid': True,\n",
    "             'lines.markersize': 8, 'lines.linewidth': 2,\n",
    "             'font.size': 14}\n",
    "from matplotlib import cm\n",
    "plt.rcParams.update(newparams)"
   ]
  },
  {
   "cell_type": "code",
   "execution_count": 12,
   "metadata": {},
   "outputs": [],
   "source": [
    "def tridiag(v, d, w, N):\n",
    "    # Help function \n",
    "    # Returns a tridiagonal matrix A=tridiag(v, d, w) of dimension N x N.\n",
    "    if len(v) + len(d) + len(w) > 3:\n",
    "        A = np.diag(v, -1) + np.diag(d) + np.diag(w, 1)\n",
    "    else:\n",
    "        e = np.ones(N)        # array [1,1,...,1] of length N\n",
    "        A = v*np.diag(e[1:],-1) + d * np.diag(e) + w * np.diag(e[1:],1)\n",
    "    return A"
   ]
  },
  {
   "cell_type": "code",
   "execution_count": null,
   "metadata": {},
   "outputs": [],
   "source": [
    "def crank(g, params, BC, M=10, N=100, R = 1, T=0.5):\n",
    "    # Input: \n",
    "    #       g: initial function for t=0\n",
    "    #       M, N: number of grid intervals in the x- and t directions\n",
    "    #       T: end of integration\n",
    "    # Output: \n",
    "    #       x, t: the gridpoints in the x- and t- directions \n",
    "    #       U: An array with the numerical solution.\n",
    "\n",
    "    \n",
    "\n",
    "    # Set the stepsizes\n",
    "    h = R/M     # Stepsize in space\n",
    "    k = T/N     # Stepsize in time\n",
    "\n",
    "    # Parameters\n",
    "    sigma = params[0]\n",
    "    r = params[1]\n",
    "    c = params[2]\n",
    "    K = params[3]\n",
    "\n",
    "    # Helping parameters\n",
    "    alpha = sigma**2 * k / (4 * h**2)\n",
    "    beta = r * k / (4*h)\n",
    "    gamma = c * k / 2\n",
    "\n",
    "    # Print the stepsizes, and r=k/h^2.\n",
    "    print('h={:.4f}, k={:.4f}'.format(h,k))\n",
    "\n",
    "    U = np.zeros((M+1,N+1))    # Array to store the solution, boundaries included.\n",
    "    x = np.linspace(0,R,M+1)   # Gridpoints on the x-axis\n",
    "    t = np.linspace(0,T,N+1)   # Gridpoints on the t-axis\n",
    "    U[:,0] = g(x)              # Initial values, endpoints included\n",
    "    \n",
    "    # Constructing A\n",
    "    lowdiag = -alpha * x[2:-1]**2 - beta * x[2:-1]         # M-2\n",
    "    diag =  1 + alpha * x[1:]**2 + gamma                   # M-1\n",
    "    updiag = -alpha * x[1:-2]**2 + beta * x[1:-2]         # M-2\n",
    "    A = tridiag(lowdiag, diag, updiag, M-1)\n",
    "\n",
    "    # Constructing B\n",
    "    lowdiag = alpha * x[2:-1]**2 + beta * x[2:-1]  \n",
    "    diag = 1 - alpha * x[1:]**2 - gamma \n",
    "    updiag = alpha * x[2:-1]**2 + beta * x[2:-1] \n",
    "    B = tridiag(lowdiag, diag, updiag, M-1)\n",
    "\n",
    "    # Constructing p and q\n",
    "    p = np.zeros(M-1)\n",
    "    p[-1] = (-alpha * x[-1]**2 - beta * x[-1]) * U[-1, 0]\n",
    "    q = -p\n",
    "\n",
    "    # Boundary functions\n",
    "    if BC == 'EP':\n",
    "        def bndry(t):\n",
    "            return K * np.exp(-c * t)\n",
    "    elif BC == 'binary':\n",
    "        def bndry(t):\n",
    "            return 0\n",
    "\n",
    "    # Main loop \n",
    "    for n in range(N):\n",
    "        U[1:-1, n+1] = A.dot(U[1:-1,n])  # [1:-1] -> excluding endpoints\n",
    "        # Boundary\n",
    "        U[0, n+1] = bndry(t[n+1])\n",
    "    return x, t, U"
   ]
  }
 ],
 "metadata": {
  "kernelspec": {
   "display_name": "base",
   "language": "python",
   "name": "python3"
  },
  "language_info": {
   "codemirror_mode": {
    "name": "ipython",
    "version": 3
   },
   "file_extension": ".py",
   "mimetype": "text/x-python",
   "name": "python",
   "nbconvert_exporter": "python",
   "pygments_lexer": "ipython3",
   "version": "3.8.3"
  },
  "orig_nbformat": 4,
  "vscode": {
   "interpreter": {
    "hash": "6c316e93d24558c110aa6e5084d987425c692a1c5fe270bdb5157dd4452fa664"
   }
  }
 },
 "nbformat": 4,
 "nbformat_minor": 2
}
