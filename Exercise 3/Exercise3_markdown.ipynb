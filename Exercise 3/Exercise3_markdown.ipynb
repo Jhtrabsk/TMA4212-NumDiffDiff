{
 "cells": [
  {
   "attachments": {},
   "cell_type": "markdown",
   "metadata": {},
   "source": [
    "# Exercise 3\n",
    "Ole Gunnar Hovland, Jan Haakon Trabski and Alexander Hatle"
   ]
  },
  {
   "attachments": {},
   "cell_type": "markdown",
   "metadata": {},
   "source": [
    "# 1a)\n",
    "Discreticing the Black-Scholes equation and using Crank-Nicholson method."
   ]
  },
  {
   "attachments": {},
   "cell_type": "markdown",
   "metadata": {},
   "source": [
    "Black-Scholes equation:\n",
    "$$\n",
    "u_{t}- \\frac{1}{2}\\sigma^{2}x^{2}u_{xx}-rxu_{x}+cu=0\n",
    "$$\n",
    "Discretizing using central differences in space, \n",
    "$$\n",
    "u_{t}- \\frac{1}{2}\\sigma^{2}x^{2} \\frac{1}{h^{2}}\\delta_{x}^{2}u-rx \\delta_{x,2h}u+cu=0\n",
    "$$\n",
    "setting $v_{m}(t)=u(x_{m},t)$\n",
    "$$\\dot v_{m}= \\frac{1}{2}\\sigma^{2}x_{m} \\frac{1}{h^{2}}(v_{m+1}-2v_{m}+v_{m-1})+rx_{m} \\frac{1}{2h}(v_{m+1}-v_{m-1})=: h(t,\\vec v)$$\n",
    "Crank-Nicholson scheme:\n",
    "$$\\vec y^{n+1}=\\vec y^{n}+ \\frac{k}{2}[h(t_{n},\\vec y^{n})+h(t_{n},y^{n+1})]$$\n",
    "We then get\n",
    "$$\\begin{align*}\n",
    "U^{n+1}_{m}=U^{n}_{m}+ \\frac{k}{2}\\Bigg[& \\left(\\frac{\\sigma^{2}}{2h^{2}}x_{m}^{2}+ \\frac{r}{2h}x_{m}\\right)(U_{m+1}^{n}+ U_{m+1}^{n+1})\\\\\n",
    "&-\\left(\\frac{\\sigma^{2}}{h^{2}}x_{m}^{2}+c\\right)(U_{m}^{n}+U_{m}^{n+1})\\\\\n",
    "&+ \\left(\\frac{\\sigma^{2}}{h^{2}}x_{m}^{2}- \\frac{r}{2h}x_{m}\\right)(U_{m-1}^{n}+U_{m-1}^{n+1})\\Bigg]\n",
    "\\end{align*}$$\n",
    "Setting useful parameters \n",
    "$$\\alpha_{m}=\\frac{\\sigma^{2}k}{4h^{2}}x_{m}^{2},\\qquad \\beta_{m}=\\frac{rk}{4h}x_{m},\\qquad \\gamma=\\frac{ck}{2}$$\n",
    "We get the system\n",
    "$$\\begin{align*}\n",
    "&(-\\alpha_{m}-\\beta_{m})U_{m+1}^{n+1}+(1+2\\alpha_{m}+\\gamma)U_{m}^{n+1}+(-\\alpha_{m}+\\beta_{m})U_{m-1}^{n+1}&= \\\\\n",
    "\t&(\\alpha_{m}+\\beta_{m})U_{m+1}^{n}+(1-2\\alpha_{m}-\\gamma)U_{m}^{n}+(\\alpha_{m}-\\beta_{m})U_{m-1}^{n}\n",
    "\\end{align*}$$\n",
    "Or, in vector form\n",
    "$$A\\vec U^{n+1}+\\vec p^{n+1}=B\\vec U^{n}+\\vec q^{n}$$\n",
    "Where \n",
    "$$A=I_{M-1}+C,\\qquad B=I_{M-1}-C,\\qquad C=\\text{tridiag}(-\\alpha_{m}-\\beta_{m},2\\alpha)$$\n"
   ]
  },
  {
   "attachments": {},
   "cell_type": "markdown",
   "metadata": {},
   "source": [
    "And vectors for the boundaries\n",
    "$$\\vec p^{n+1}= \\begin{bmatrix}(-\\alpha_{1}-\\beta_{1})U_{0}^{n+1} \\\\ 0 \\\\ \\vdots \\\\ 0 \\\\ (-\\alpha_{M-1}+\\beta_{M-1})U_{M}^{n+1}\\end{bmatrix}$$\n",
    "$$\\vec q^{n}= \\begin{bmatrix}(\\alpha_{1}+\\beta_{1})U_{0}^{n} \\\\ 0 \\\\ \\vdots \\\\ 0 \\\\ (\\alpha_{M-1}-\\beta_{M-1})U_{M}^{n}\\end{bmatrix}$$\n",
    "### Initial conditions and boundary conditions\n",
    "#### European put\n",
    "$$u(x, 0)=\\text{max}(K-x,0)=:(K-x)^{+}\\tag{EP}$$\n",
    "For $K>0$. At $x=R$ we get\n",
    "$$u(R,t)=u(R,0)\\stackrel{R>K}{=} 0$$\n",
    "At $x=0$ we get a solvable ODE\n",
    "$$\\begin{align*}\n",
    "u_{t}+cu&=0\\\\\n",
    "u_{t}&= -cu\\\\\n",
    "\\text{(assume that) } u&=Ce^{-ct}\\\\\n",
    "\tu(0,0)\\stackrel{(EP)}{=}K \\quad\\Rightarrow\\quad C&= K \\\\\n",
    "u(0,t)=Ke^{-ct}\n",
    "\\end{align*}$$\n",
    "#### Binary call\n",
    "$$u(x,0)=\\text{sgn}^{+}(x-K)\\qquad \\text{sgn}^{+}(r)=\\begin{cases}\n",
    "0 & r<0 \\\\\n",
    "1 & r\\ge 0\n",
    "\\end{cases}$$\n",
    "Boundary at $x=R$\n",
    "$$u(R,t)=u(R,0)\\stackrel{R>K}{=}1$$\n",
    "We have the same ODE at $x=0$, but we get a different constant\n",
    "$$\\begin{align*}\n",
    "\tu&=C'e^{-ct}\\\\\n",
    "u(0,0)=0 \\quad\\Rightarrow\\quad u(0,t)&= 0\n",
    "\\end{align*}$$"
   ]
  },
  {
   "cell_type": "markdown",
   "metadata": {},
   "source": []
  }
 ],
 "metadata": {
  "kernelspec": {
   "display_name": "Python 3",
   "language": "python",
   "name": "python3"
  },
  "language_info": {
   "name": "python",
   "version": "3.8.2"
  },
  "orig_nbformat": 4,
  "vscode": {
   "interpreter": {
    "hash": "31f2aee4e71d21fbe5cf8b01ff0e069b9275f58929596ceb00d14d90e3e16cd6"
   }
  }
 },
 "nbformat": 4,
 "nbformat_minor": 2
}
